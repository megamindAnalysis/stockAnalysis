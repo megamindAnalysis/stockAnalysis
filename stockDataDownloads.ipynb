{
 "cells": [
  {
   "cell_type": "markdown",
   "metadata": {},
   "source": [
    "# Downloading Stock Data \n",
    "    - Class to get symbols and download stock data\n",
    "        - further checks on date range needs to be added\n",
    "        - need to eliminate Unnamed columns in dataframe"
   ]
  },
  {
   "cell_type": "code",
   "execution_count": null,
   "metadata": {},
   "outputs": [],
   "source": [
    "from pandas_datareader import data\n",
    "import matplotlib.pyplot as plt\n",
    "import pandas as pd\n",
    "import datetime as dt\n",
    "from datetime import datetime\n",
    "\n",
    "class StockData():\n",
    "    def __init__(self, file_name):\n",
    "        \n",
    "        self.file_name = file_name\n",
    "        self.symbol_dict = {}\n",
    "        \n",
    "        \n",
    "    def stock_downloads(self):\n",
    "        for x, y in self.file_name['Symbol'].iteritems():\n",
    "            try:\n",
    "                self.symbol_df(y)\n",
    "            except Exception as e:\n",
    "                print(e)\n",
    "                print(\"Failed to pass to symbol_df\", y)\n",
    "                continue\n",
    "\n",
    "    \n",
    "    def symbol_df(self, ticker):\n",
    "        \n",
    "        stock = pd.read_csv('data/NASDAQ Data/' + ticker + '.csv')\n",
    "        start_date = '2010-01-31'\n",
    "        end_date = '2019-02-21'\n",
    "\n",
    "        df_symbol = (\"df\" + \"_\" + ticker)\n",
    "        df_symbol = data.DataReader(ticker, 'yahoo', start_date, end_date)\n",
    "        df_symbol = stock.append(df_symbol)\n",
    "        self.symbol_dict[ticker] = df_symbol\n",
    "        self.create_csv(self.symbol_dict)\n",
    "    \n",
    "    def create_csv(self, symbol_dict):\n",
    "        for x in self.symbol_dict.keys():\n",
    "            self.symbol_dict[x].to_csv('data/NASDAQ Data/' + x + '.csv')\n",
    "            display(self.symbol_dict[x].tail())\n",
    "        "
   ]
  },
  {
   "cell_type": "code",
   "execution_count": null,
   "metadata": {},
   "outputs": [],
   "source": [
    "import pandas as pd\n",
    "nyse = pd.read_csv('data/NASDAQCompanyList.csv')\n",
    "\n",
    "nyse = nyse.tail() # temp for testing new functionality\n",
    "\n",
    "stock = StockData(nyse)\n",
    "stock.stock_downloads()"
   ]
  },
  {
   "cell_type": "code",
   "execution_count": null,
   "metadata": {},
   "outputs": [],
   "source": [
    "# future addition\n",
    "\n",
    "# stock = pd.read_csv('data/NASDAQ Data/NVDA.csv')\n",
    "# stock['Day Diff'] = stock['Adj Close'] - stock['Adj Close'].shift()\n",
    "# stock['Day Percentage Change'] = ((stock['Adj Close'] - stock['Adj Close'].shift())/stock['Adj Close'])*100\n",
    "# date = stock['Date'].iloc[0] \n",
    "# date = datetime.strptime(date, \"%Y-%d-%m\")\n",
    "# date = date + dt.timedelta(1)\n",
    "# print(date)"
   ]
  }
 ],
 "metadata": {
  "kernelspec": {
   "display_name": "Python 3",
   "language": "python",
   "name": "python3"
  },
  "language_info": {
   "codemirror_mode": {
    "name": "ipython",
    "version": 3
   },
   "file_extension": ".py",
   "mimetype": "text/x-python",
   "name": "python",
   "nbconvert_exporter": "python",
   "pygments_lexer": "ipython3",
   "version": "3.6.8"
  }
 },
 "nbformat": 4,
 "nbformat_minor": 2
}
